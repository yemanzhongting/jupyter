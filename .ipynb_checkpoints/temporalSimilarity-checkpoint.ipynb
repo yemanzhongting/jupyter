{
 "cells": [
  {
   "cell_type": "code",
   "execution_count": 3,
   "metadata": {
    "collapsed": true
   },
   "outputs": [],
   "source": [
    "import numpy as np\n",
    "from scipy import integrate\n",
    "import pandas as pd"
   ]
  },
  {
   "cell_type": "code",
   "execution_count": 4,
   "metadata": {
    "collapsed": true
   },
   "outputs": [],
   "source": [
    "# the true data\n",
    "df2 = pd.read_csv(\"curveSimilarity_true.csv\")\n",
    "day = list(df2.columns.values)\n",
    "day.remove('day')\n",
    "CoTrue = np.corrcoef([df2['Mon'],df2['Tues'],df2['Wed'],df2['Thurs'],df2['Fri'],df2['Sat'],df2['Sun']])\n",
    "np.savetxt(\"corrcoef_true.csv\", CoTrue, delimiter=\",\")"
   ]
  },
  {
   "cell_type": "code",
   "execution_count": 5,
   "metadata": {},
   "outputs": [
    {
     "data": {
      "text/plain": [
       "array([[1.        , 0.99337954, 0.98962464, 0.99099803, 0.96591784,\n",
       "        0.82000407, 0.81594472],\n",
       "       [0.99337954, 1.        , 0.98789761, 0.99540817, 0.9622586 ,\n",
       "        0.82405462, 0.82042252],\n",
       "       [0.98962464, 0.98789761, 1.        , 0.99195993, 0.98564896,\n",
       "        0.81931688, 0.82481885],\n",
       "       [0.99099803, 0.99540817, 0.99195993, 1.        , 0.96728579,\n",
       "        0.79371794, 0.79503365],\n",
       "       [0.96591784, 0.9622586 , 0.98564896, 0.96728579, 1.        ,\n",
       "        0.84759189, 0.85904242],\n",
       "       [0.82000407, 0.82405462, 0.81931688, 0.79371794, 0.84759189,\n",
       "        1.        , 0.98244366],\n",
       "       [0.81594472, 0.82042252, 0.82481885, 0.79503365, 0.85904242,\n",
       "        0.98244366, 1.        ]])"
      ]
     },
     "execution_count": 5,
     "metadata": {},
     "output_type": "execute_result"
    }
   ],
   "source": [
    "CoTrue"
   ]
  },
  {
   "cell_type": "code",
   "execution_count": null,
   "metadata": {
    "collapsed": true
   },
   "outputs": [],
   "source": []
  }
 ],
 "metadata": {
  "kernelspec": {
   "display_name": "Python 3",
   "language": "python",
   "name": "python3"
  },
  "language_info": {
   "codemirror_mode": {
    "name": "ipython",
    "version": 3
   },
   "file_extension": ".py",
   "mimetype": "text/x-python",
   "name": "python",
   "nbconvert_exporter": "python",
   "pygments_lexer": "ipython3",
   "version": "3.6.3"
  }
 },
 "nbformat": 4,
 "nbformat_minor": 2
}
