{
 "nbformat": 4,
 "nbformat_minor": 2,
 "metadata": {
  "language_info": {
   "name": "python",
   "codemirror_mode": {
    "name": "ipython",
    "version": 3
   },
   "version": "3.6.3-final"
  },
  "orig_nbformat": 2,
  "file_extension": ".py",
  "mimetype": "text/x-python",
  "name": "python",
  "npconvert_exporter": "python",
  "pygments_lexer": "ipython3",
  "version": 3,
  "kernelspec": {
   "name": "python36364bitbasecondaeb0cf0c00ef544d4a504540e7c1e973b",
   "display_name": "Python 3.6.3 64-bit ('base': conda)"
  }
 },
 "cells": [
  {
   "cell_type": "code",
   "execution_count": 1,
   "metadata": {},
   "outputs": [],
   "source": [
    "import jieba"
   ]
  },
  {
   "cell_type": "code",
   "execution_count": 2,
   "metadata": {},
   "outputs": [],
   "source": [
    "def Jaccrad(model, reference):#terms_reference为源句子，terms_model为候选句子\n",
    "    terms_reference= jieba.cut(reference)#默认精准模式\n",
    "    terms_model= jieba.cut(model)\n",
    "    grams_reference = set(terms_reference)#去重；如果不需要就改为list\n",
    "    grams_model = set(terms_model)\n",
    "    temp=0\n",
    "    for i in grams_reference:\n",
    "        if i in grams_model:\n",
    "            temp=temp+1\n",
    "    fenmu=len(grams_model)+len(grams_reference)-temp #并集\n",
    "    jaccard_coefficient=float(temp/fenmu)#交集\n",
    "    return jaccard_coefficient"
   ]
  },
  {
   "cell_type": "code",
   "execution_count": 3,
   "metadata": {},
   "outputs": [
    {
     "name": "stderr",
     "output_type": "stream",
     "text": "Building prefix dict from the default dictionary ...\nLoading model from cache C:\\Users\\hp\\AppData\\Local\\Temp\\jieba.cache\nLoading model cost 0.724 seconds.\nPrefix dict has been built succesfully.\n0.38461538461538464\n"
    }
   ],
   "source": [
    "a=\"香农在信息论中提出的信息熵定义为自信息的期望\"\n",
    "b=\"信息熵作为自信息的期望\"\n",
    "jaccard_coefficient=Jaccrad(a,b)\n",
    "print(jaccard_coefficient)"
   ]
  },
  {
   "cell_type": "code",
   "execution_count": 4,
   "metadata": {},
   "outputs": [
    {
     "data": {
      "text/plain": "0.045454545454545456"
     },
     "execution_count": 4,
     "metadata": {},
     "output_type": "execute_result"
    }
   ],
   "source": [
    "a=\"#新型冠状病毒# 是不是感染过自愈的人就会有抗体，我去年十二月份发烧咳嗽的症状很大可能就是这个肺炎，后来靠自己免疫力抗下来了，这我是不是有抗体了？我现在有种莫名的安全感.\"\n",
    "b=\"#线上肺炎患者求助专区#希望早日打赢这场战役！希望所有却真的都可以尽快得到治疗康复什么出院 2武汉·卡梅尔小镇\"\n",
    "Jaccrad(a,b)"
   ]
  }
 ]
}